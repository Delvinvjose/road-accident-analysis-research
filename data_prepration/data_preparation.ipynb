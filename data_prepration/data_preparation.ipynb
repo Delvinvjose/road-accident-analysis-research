{
  "nbformat": 4,
  "nbformat_minor": 0,
  "metadata": {
    "colab": {
      "provenance": []
    },
    "kernelspec": {
      "name": "python3",
      "display_name": "Python 3"
    },
    "language_info": {
      "name": "python"
    }
  },
  "cells": [
    {
      "cell_type": "code",
      "execution_count": null,
      "metadata": {
        "id": "7t4CHjym_VPm"
      },
      "outputs": [],
      "source": [
        "import pandas as pd"
      ]
    },
    {
      "cell_type": "markdown",
      "source": [
        "accident data"
      ],
      "metadata": {
        "id": "6YO6JoaaA3sZ"
      }
    },
    {
      "cell_type": "code",
      "source": [
        "data=pd.read_csv('/content/accident_full_weather_detailed.csv')#with weather details"
      ],
      "metadata": {
        "id": "GVGQ5Afb_d7X"
      },
      "execution_count": null,
      "outputs": []
    },
    {
      "cell_type": "code",
      "source": [
        "data.shape"
      ],
      "metadata": {
        "id": "67u_rI4H_gMi",
        "colab": {
          "base_uri": "https://localhost:8080/"
        },
        "outputId": "4a0153ba-a75b-41db-d224-a14ebedae1e1"
      },
      "execution_count": null,
      "outputs": [
        {
          "output_type": "execute_result",
          "data": {
            "text/plain": [
              "(11356, 58)"
            ]
          },
          "metadata": {},
          "execution_count": 4
        }
      ]
    },
    {
      "cell_type": "code",
      "source": [
        "vec_data=pd.read_csv('/content/dft-road-casualty-statistics-vehicle-last-5-years.csv')#uk offical vechile,driver details"
      ],
      "metadata": {
        "id": "n1iCWF98_iYT",
        "colab": {
          "base_uri": "https://localhost:8080/"
        },
        "outputId": "3afd7c60-f3b0-408f-80e9-edae436b81fc"
      },
      "execution_count": null,
      "outputs": [
        {
          "output_type": "stream",
          "name": "stderr",
          "text": [
            "/tmp/ipython-input-3431527347.py:1: DtypeWarning: Columns (0,2) have mixed types. Specify dtype option on import or set low_memory=False.\n",
            "  vec_data=pd.read_csv('/content/dft-road-casualty-statistics-vehicle-last-5-years.csv')\n"
          ]
        }
      ]
    },
    {
      "cell_type": "code",
      "source": [
        "new_data=pd.merge(data,vec_data,on='accident_reference')#joining both with reference"
      ],
      "metadata": {
        "id": "jSFz0rQf_mXh"
      },
      "execution_count": null,
      "outputs": []
    },
    {
      "cell_type": "code",
      "source": [
        "new_data.isnull().sum()"
      ],
      "metadata": {
        "id": "Zn7C3G7Q_n9e",
        "colab": {
          "base_uri": "https://localhost:8080/",
          "height": 458
        },
        "outputId": "d3352da4-1662-4f5d-990f-5d16e4e2d74a"
      },
      "execution_count": null,
      "outputs": [
        {
          "output_type": "execute_result",
          "data": {
            "text/plain": [
              "Unnamed: 0                    0\n",
              "accident_index_x              0\n",
              "accident_year_x               0\n",
              "accident_reference            0\n",
              "location_easting_osgr         0\n",
              "                           ... \n",
              "dir_from_e                 6908\n",
              "dir_from_n                 6908\n",
              "dir_to_e                   6910\n",
              "dir_to_n                   6910\n",
              "driver_distance_banding       0\n",
              "Length: 91, dtype: int64"
            ],
            "text/html": [
              "<div>\n",
              "<style scoped>\n",
              "    .dataframe tbody tr th:only-of-type {\n",
              "        vertical-align: middle;\n",
              "    }\n",
              "\n",
              "    .dataframe tbody tr th {\n",
              "        vertical-align: top;\n",
              "    }\n",
              "\n",
              "    .dataframe thead th {\n",
              "        text-align: right;\n",
              "    }\n",
              "</style>\n",
              "<table border=\"1\" class=\"dataframe\">\n",
              "  <thead>\n",
              "    <tr style=\"text-align: right;\">\n",
              "      <th></th>\n",
              "      <th>0</th>\n",
              "    </tr>\n",
              "  </thead>\n",
              "  <tbody>\n",
              "    <tr>\n",
              "      <th>Unnamed: 0</th>\n",
              "      <td>0</td>\n",
              "    </tr>\n",
              "    <tr>\n",
              "      <th>accident_index_x</th>\n",
              "      <td>0</td>\n",
              "    </tr>\n",
              "    <tr>\n",
              "      <th>accident_year_x</th>\n",
              "      <td>0</td>\n",
              "    </tr>\n",
              "    <tr>\n",
              "      <th>accident_reference</th>\n",
              "      <td>0</td>\n",
              "    </tr>\n",
              "    <tr>\n",
              "      <th>location_easting_osgr</th>\n",
              "      <td>0</td>\n",
              "    </tr>\n",
              "    <tr>\n",
              "      <th>...</th>\n",
              "      <td>...</td>\n",
              "    </tr>\n",
              "    <tr>\n",
              "      <th>dir_from_e</th>\n",
              "      <td>6908</td>\n",
              "    </tr>\n",
              "    <tr>\n",
              "      <th>dir_from_n</th>\n",
              "      <td>6908</td>\n",
              "    </tr>\n",
              "    <tr>\n",
              "      <th>dir_to_e</th>\n",
              "      <td>6910</td>\n",
              "    </tr>\n",
              "    <tr>\n",
              "      <th>dir_to_n</th>\n",
              "      <td>6910</td>\n",
              "    </tr>\n",
              "    <tr>\n",
              "      <th>driver_distance_banding</th>\n",
              "      <td>0</td>\n",
              "    </tr>\n",
              "  </tbody>\n",
              "</table>\n",
              "<p>91 rows × 1 columns</p>\n",
              "</div><br><label><b>dtype:</b> int64</label>"
            ]
          },
          "metadata": {},
          "execution_count": 7
        }
      ]
    },
    {
      "cell_type": "code",
      "source": [
        "new_data.shape"
      ],
      "metadata": {
        "id": "XOt-2vVC_rb5",
        "colab": {
          "base_uri": "https://localhost:8080/"
        },
        "outputId": "b7c266be-ef6b-4d3c-fcb9-ae334b83a329"
      },
      "execution_count": null,
      "outputs": [
        {
          "output_type": "execute_result",
          "data": {
            "text/plain": [
              "(7133, 91)"
            ]
          },
          "metadata": {},
          "execution_count": 8
        }
      ]
    },
    {
      "cell_type": "markdown",
      "source": [
        "non accident"
      ],
      "metadata": {
        "id": "irm7wVSYA_Es"
      }
    },
    {
      "cell_type": "code",
      "source": [
        "non_data=pd.read_csv('/content/non_accident_weather_balanced11111.csv')#non_accident data with weather details"
      ],
      "metadata": {
        "id": "3Jz0Imx0_tH4"
      },
      "execution_count": null,
      "outputs": []
    },
    {
      "cell_type": "code",
      "source": [
        "non_data.shape"
      ],
      "metadata": {
        "id": "eU-Z_64f_vIt",
        "colab": {
          "base_uri": "https://localhost:8080/"
        },
        "outputId": "f1183d78-d284-4396-d1f5-7b3d9fa80896"
      },
      "execution_count": null,
      "outputs": [
        {
          "output_type": "execute_result",
          "data": {
            "text/plain": [
              "(16283, 61)"
            ]
          },
          "metadata": {},
          "execution_count": 11
        }
      ]
    },
    {
      "cell_type": "code",
      "source": [
        "vec_details=pd.read_csv('/content/dft-road-casualty-statistics-vehicle-last-5-years.csv')#vechile and driver details"
      ],
      "metadata": {
        "id": "G4hWOEel_w8p",
        "colab": {
          "base_uri": "https://localhost:8080/"
        },
        "outputId": "9d14508a-39ea-4af8-c5b3-92219e7b1781"
      },
      "execution_count": null,
      "outputs": [
        {
          "output_type": "stream",
          "name": "stderr",
          "text": [
            "/tmp/ipython-input-660168918.py:1: DtypeWarning: Columns (0,2) have mixed types. Specify dtype option on import or set low_memory=False.\n",
            "  vec_details=pd.read_csv('/content/dft-road-casualty-statistics-vehicle-last-5-years.csv')\n"
          ]
        }
      ]
    },
    {
      "cell_type": "code",
      "source": [
        "acc_details=pd.read_csv('/content/dft-road-casualty-statistics-collision-last-5-years (1).csv')#accident details"
      ],
      "metadata": {
        "id": "apwpNO1G_zoo",
        "colab": {
          "base_uri": "https://localhost:8080/"
        },
        "outputId": "9eb8a96f-5943-4d6b-9fe0-126ce59f15ac"
      },
      "execution_count": null,
      "outputs": [
        {
          "output_type": "stream",
          "name": "stderr",
          "text": [
            "/tmp/ipython-input-3403172315.py:1: DtypeWarning: Columns (0,2) have mixed types. Specify dtype option on import or set low_memory=False.\n",
            "  acc_details=pd.read_csv('/content/dft-road-casualty-statistics-collision-last-5-years (1).csv')\n"
          ]
        }
      ]
    },
    {
      "cell_type": "code",
      "source": [
        "both_data=pd.merge(acc_details,vec_details,on='accident_reference',how='left')"
      ],
      "metadata": {
        "id": "Q2lcXWg8_34m"
      },
      "execution_count": null,
      "outputs": []
    },
    {
      "cell_type": "code",
      "source": [
        "both_data['accident_severity'].value_counts()"
      ],
      "metadata": {
        "id": "CwWHKuY2_6SA",
        "colab": {
          "base_uri": "https://localhost:8080/",
          "height": 209
        },
        "outputId": "e688d24d-635d-4db4-f3a6-7068ffddfc29"
      },
      "execution_count": null,
      "outputs": [
        {
          "output_type": "execute_result",
          "data": {
            "text/plain": [
              "accident_severity\n",
              "3    682329\n",
              "2    174966\n",
              "1     12553\n",
              "Name: count, dtype: int64"
            ],
            "text/html": [
              "<div>\n",
              "<style scoped>\n",
              "    .dataframe tbody tr th:only-of-type {\n",
              "        vertical-align: middle;\n",
              "    }\n",
              "\n",
              "    .dataframe tbody tr th {\n",
              "        vertical-align: top;\n",
              "    }\n",
              "\n",
              "    .dataframe thead th {\n",
              "        text-align: right;\n",
              "    }\n",
              "</style>\n",
              "<table border=\"1\" class=\"dataframe\">\n",
              "  <thead>\n",
              "    <tr style=\"text-align: right;\">\n",
              "      <th></th>\n",
              "      <th>count</th>\n",
              "    </tr>\n",
              "    <tr>\n",
              "      <th>accident_severity</th>\n",
              "      <th></th>\n",
              "    </tr>\n",
              "  </thead>\n",
              "  <tbody>\n",
              "    <tr>\n",
              "      <th>3</th>\n",
              "      <td>682329</td>\n",
              "    </tr>\n",
              "    <tr>\n",
              "      <th>2</th>\n",
              "      <td>174966</td>\n",
              "    </tr>\n",
              "    <tr>\n",
              "      <th>1</th>\n",
              "      <td>12553</td>\n",
              "    </tr>\n",
              "  </tbody>\n",
              "</table>\n",
              "</div><br><label><b>dtype:</b> int64</label>"
            ]
          },
          "metadata": {},
          "execution_count": 16
        }
      ]
    },
    {
      "cell_type": "code",
      "source": [
        "slight=both_data[both_data['accident_severity']==3]#taking slightly accident details to combaine with non accident details"
      ],
      "metadata": {
        "id": "eGj3Ujew_8BL"
      },
      "execution_count": null,
      "outputs": []
    },
    {
      "cell_type": "code",
      "source": [
        "slight.shape"
      ],
      "metadata": {
        "id": "bqXIc4wu__SB",
        "colab": {
          "base_uri": "https://localhost:8080/"
        },
        "outputId": "3aacdff0-5cfa-4b0f-e729-5f4780b9dea2"
      },
      "execution_count": null,
      "outputs": [
        {
          "output_type": "execute_result",
          "data": {
            "text/plain": [
              "(682329, 70)"
            ]
          },
          "metadata": {},
          "execution_count": 18
        }
      ]
    },
    {
      "cell_type": "code",
      "source": [
        "slight_sample=slight.sample(n=len(non_data),random_state=42).reset_index(drop=True)\n",
        "slight_extra=slight_sample.drop(columns=non_data.columns,errors='ignore')"
      ],
      "metadata": {
        "id": "lhaAYkV8ABV8"
      },
      "execution_count": null,
      "outputs": []
    },
    {
      "cell_type": "code",
      "source": [
        "non_data=pd.concat([non_data.reset_index(drop=True),slight_extra],axis=1)"
      ],
      "metadata": {
        "id": "cUnxtlXpADwU"
      },
      "execution_count": null,
      "outputs": []
    },
    {
      "cell_type": "code",
      "source": [
        "non_data.shape"
      ],
      "metadata": {
        "id": "b8UAiYeKAMrP",
        "colab": {
          "base_uri": "https://localhost:8080/"
        },
        "outputId": "83642da3-032b-4d3f-9672-59c247efbd2d"
      },
      "execution_count": null,
      "outputs": [
        {
          "output_type": "execute_result",
          "data": {
            "text/plain": [
              "(16283, 98)"
            ]
          },
          "metadata": {},
          "execution_count": 21
        }
      ]
    },
    {
      "cell_type": "code",
      "source": [
        "non_data=non_data.sample(n=len(new_data),random_state=42)"
      ],
      "metadata": {
        "id": "3mROo1_FBWjR"
      },
      "execution_count": null,
      "outputs": []
    },
    {
      "cell_type": "code",
      "source": [
        "new_data[\"label_accident\"]=1\n",
        "non_data[\"label_accident\"]=0"
      ],
      "metadata": {
        "id": "Hd8exJgiBlSG"
      },
      "execution_count": null,
      "outputs": []
    },
    {
      "cell_type": "code",
      "source": [
        "combained=pd.concat([new_data,non_data],ignore_index=True)"
      ],
      "metadata": {
        "id": "PKI9WU9yBon2"
      },
      "execution_count": null,
      "outputs": []
    },
    {
      "cell_type": "code",
      "source": [
        "combained.info()"
      ],
      "metadata": {
        "colab": {
          "base_uri": "https://localhost:8080/"
        },
        "id": "8WblfBcIO8zj",
        "outputId": "f7c846c5-2ca5-4212-a04b-e78c5a40bd50"
      },
      "execution_count": null,
      "outputs": [
        {
          "output_type": "stream",
          "name": "stdout",
          "text": [
            "<class 'pandas.core.frame.DataFrame'>\n",
            "RangeIndex: 14266 entries, 0 to 14265\n",
            "Data columns (total 99 columns):\n",
            " #   Column                                       Non-Null Count  Dtype  \n",
            "---  ------                                       --------------  -----  \n",
            " 0   Unnamed: 0                                   14266 non-null  int64  \n",
            " 1   accident_index_x                             14266 non-null  object \n",
            " 2   accident_year_x                              14266 non-null  int64  \n",
            " 3   accident_reference                           14266 non-null  object \n",
            " 4   location_easting_osgr                        14266 non-null  float64\n",
            " 5   location_northing_osgr                       14266 non-null  float64\n",
            " 6   longitude                                    14266 non-null  float64\n",
            " 7   latitude                                     14266 non-null  float64\n",
            " 8   police_force                                 14266 non-null  int64  \n",
            " 9   accident_severity                            14266 non-null  int64  \n",
            " 10  number_of_vehicles                           14266 non-null  int64  \n",
            " 11  number_of_casualties                         14266 non-null  int64  \n",
            " 12  date                                         14266 non-null  object \n",
            " 13  day_of_week                                  14266 non-null  int64  \n",
            " 14  time                                         14266 non-null  object \n",
            " 15  local_authority_district                     14266 non-null  int64  \n",
            " 16  local_authority_ons_district                 14266 non-null  object \n",
            " 17  local_authority_highway                      14266 non-null  object \n",
            " 18  first_road_class                             14266 non-null  int64  \n",
            " 19  first_road_number                            14266 non-null  int64  \n",
            " 20  road_type                                    14266 non-null  int64  \n",
            " 21  speed_limit                                  14266 non-null  int64  \n",
            " 22  junction_detail                              14266 non-null  int64  \n",
            " 23  junction_control                             14266 non-null  int64  \n",
            " 24  second_road_class                            14266 non-null  int64  \n",
            " 25  second_road_number                           14266 non-null  int64  \n",
            " 26  pedestrian_crossing_human_control            14266 non-null  int64  \n",
            " 27  pedestrian_crossing_physical_facilities      14266 non-null  int64  \n",
            " 28  light_conditions                             14266 non-null  int64  \n",
            " 29  weather_conditions                           14266 non-null  int64  \n",
            " 30  road_surface_conditions                      14266 non-null  int64  \n",
            " 31  special_conditions_at_site                   14266 non-null  int64  \n",
            " 32  carriageway_hazards                          14266 non-null  int64  \n",
            " 33  urban_or_rural_area                          14266 non-null  int64  \n",
            " 34  did_police_officer_attend_scene_of_accident  14266 non-null  int64  \n",
            " 35  trunk_road_flag                              14266 non-null  float64\n",
            " 36  lsoa_of_accident_location                    14266 non-null  object \n",
            " 37  enhanced_severity_collision                  14266 non-null  float64\n",
            " 38  blackspot_id                                 14266 non-null  float64\n",
            " 39  temperature_2m                               14266 non-null  float64\n",
            " 40  apparent_temperature                         14266 non-null  float64\n",
            " 41  precipitation                                14266 non-null  float64\n",
            " 42  rain                                         14266 non-null  float64\n",
            " 43  snowfall                                     14266 non-null  float64\n",
            " 44  weathercode                                  14266 non-null  int64  \n",
            " 45  surface_pressure                             14266 non-null  float64\n",
            " 46  cloudcover                                   14266 non-null  int64  \n",
            " 47  cloudcover_low                               14266 non-null  int64  \n",
            " 48  cloudcover_mid                               14266 non-null  int64  \n",
            " 49  cloudcover_high                              14266 non-null  int64  \n",
            " 50  et0_fao_evapotranspiration                   14266 non-null  float64\n",
            " 51  evapotranspiration                           0 non-null      float64\n",
            " 52  windgusts_10m                                14266 non-null  float64\n",
            " 53  windspeed_10m                                14266 non-null  float64\n",
            " 54  winddirection_10m                            14266 non-null  int64  \n",
            " 55  relative_humidity_2m                         14266 non-null  int64  \n",
            " 56  dewpoint_2m                                  14266 non-null  float64\n",
            " 57  visibility                                   0 non-null      float64\n",
            " 58  accident_index_y                             13439 non-null  object \n",
            " 59  accident_year_y                              13439 non-null  float64\n",
            " 60  vehicle_reference                            13439 non-null  float64\n",
            " 61  vehicle_type                                 13439 non-null  float64\n",
            " 62  towing_and_articulation                      13439 non-null  float64\n",
            " 63  vehicle_manoeuvre                            13439 non-null  float64\n",
            " 64  vehicle_direction_from                       13439 non-null  float64\n",
            " 65  vehicle_direction_to                         13439 non-null  float64\n",
            " 66  vehicle_location_restricted_lane             13439 non-null  float64\n",
            " 67  junction_location                            13439 non-null  float64\n",
            " 68  skidding_and_overturning                     13439 non-null  float64\n",
            " 69  hit_object_in_carriageway                    13439 non-null  float64\n",
            " 70  vehicle_leaving_carriageway                  13439 non-null  float64\n",
            " 71  hit_object_off_carriageway                   13439 non-null  float64\n",
            " 72  first_point_of_impact                        13439 non-null  float64\n",
            " 73  vehicle_left_hand_drive                      13439 non-null  float64\n",
            " 74  journey_purpose_of_driver                    13439 non-null  float64\n",
            " 75  sex_of_driver                                13439 non-null  float64\n",
            " 76  age_of_driver                                13439 non-null  float64\n",
            " 77  age_band_of_driver                           13439 non-null  float64\n",
            " 78  engine_capacity_cc                           13439 non-null  float64\n",
            " 79  propulsion_code                              13439 non-null  float64\n",
            " 80  age_of_vehicle                               13439 non-null  float64\n",
            " 81  generic_make_model                           13439 non-null  object \n",
            " 82  driver_imd_decile                            13439 non-null  float64\n",
            " 83  driver_home_area_type                        13439 non-null  float64\n",
            " 84  lsoa_of_driver                               13439 non-null  object \n",
            " 85  escooter_flag                                13439 non-null  float64\n",
            " 86  dir_from_e                                   632 non-null    float64\n",
            " 87  dir_from_n                                   632 non-null    float64\n",
            " 88  dir_to_e                                     628 non-null    float64\n",
            " 89  dir_to_n                                     628 non-null    float64\n",
            " 90  driver_distance_banding                      13439 non-null  float64\n",
            " 91  label_accident                               14266 non-null  int64  \n",
            " 92  accident_index                               7133 non-null   object \n",
            " 93  accident_year                                7133 non-null   float64\n",
            " 94  datetime                                     7133 non-null   object \n",
            " 95  nonacc_datetime                              7133 non-null   object \n",
            " 96  nonacc_dayofweek                             7133 non-null   float64\n",
            " 97  nonacc_hour                                  7133 non-null   float64\n",
            " 98  label                                        7133 non-null   float64\n",
            "dtypes: float64(53), int64(33), object(13)\n",
            "memory usage: 10.8+ MB\n"
          ]
        }
      ]
    },
    {
      "cell_type": "code",
      "source": [
        "combained.to_csv('all_data_.csv',index=False)"
      ],
      "metadata": {
        "id": "NYhX3dM9BpXg"
      },
      "execution_count": null,
      "outputs": []
    }
  ]
}